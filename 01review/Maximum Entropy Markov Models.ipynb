{
 "cells": [
  {
   "cell_type": "markdown",
   "metadata": {},
   "source": [
    "# REFERENCES\n",
    "# REQUIRED BACKGROUND\n",
    "# RELATED WORK\n",
    "# THIS WORK\n",
    "\n",
    "## INTRO\n",
    "## MEMM\n",
    "### THE NEW MODEL\n",
    "### STATE ESTIMATION FROM OBSERVATION\n",
    "### AN EXPONENTIAL MODEL FOR TRANSITIONS\n",
    "### PARAMETER ESTIMATION BY GENERALIZED ITERATIVE SCALING\n",
    "### PARAMETER ESTIMATION WITH UNKNOWN STATE\n",
    "### VARIATIONS\n",
    "* FACTORED STATE REPRESENTATION\n",
    "* OBSERVATIONS IN STATES INSTEAD OF TRANSITIONS\n",
    "* AN ENVIRONMENT MODEL FOR REINFORCEMENT LEARNING\n",
    "## RESULTS\n",
    "\n",
    "# CONCLUSIONS\n",
    "# FUTURE WORK\n",
    "\n"
   ]
  }
 ],
 "metadata": {
  "kernelspec": {
   "display_name": "Python 3",
   "language": "python",
   "name": "python3"
  },
  "language_info": {
   "codemirror_mode": {
    "name": "ipython",
    "version": 3
   },
   "file_extension": ".py",
   "mimetype": "text/x-python",
   "name": "python",
   "nbconvert_exporter": "python",
   "pygments_lexer": "ipython3",
   "version": "3.5.2"
  }
 },
 "nbformat": 4,
 "nbformat_minor": 0
}
